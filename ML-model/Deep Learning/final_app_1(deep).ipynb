{
  "cells": [
    {
      "cell_type": "code",
      "execution_count": null,
      "metadata": {
        "colab": {
          "base_uri": "https://localhost:8080/"
        },
        "id": "SMTdNRexhUu6",
        "outputId": "31aedf0a-4da0-4721-8aea-73f02899f6c1"
      },
      "outputs": [
        {
          "output_type": "stream",
          "name": "stdout",
          "text": [
            "Mounted at /content/drive\n"
          ]
        }
      ],
      "source": [
        "from google.colab import drive\n",
        "drive.mount('/content/drive')"
      ]
    },
    {
      "cell_type": "code",
      "execution_count": null,
      "metadata": {
        "id": "2gqT737wi9V9"
      },
      "outputs": [],
      "source": [
        "import numpy as np\n",
        "import pandas as pd\n",
        "import matplotlib.pyplot as plt\n",
        "from sklearn.linear_model import LogisticRegression\n",
        "from sklearn.model_selection import train_test_split\n",
        "from sklearn.metrics import accuracy_score"
      ]
    },
    {
      "cell_type": "code",
      "execution_count": null,
      "metadata": {
        "colab": {
          "base_uri": "https://localhost:8080/"
        },
        "id": "jAG3wGA0jghm",
        "outputId": "3dc40f6c-4865-4e66-d0f8-0706a8ec355a"
      },
      "outputs": [
        {
          "name": "stdout",
          "output_type": "stream",
          "text": [
            "['G', 'D', 'C', 'I', 'F', 'E', 'A', 'J', 'H', 'B', 'K']\n"
          ]
        }
      ],
      "source": [
        "import os\n",
        "\n",
        "path =\"/content/drive/MyDrive/braille/train/\"\n",
        "files = os.listdir(path)[:11]\n",
        "print(files)\n",
        "\n",
        "classes={'A':0, 'B':1, 'C':2, 'D':3, 'E':4, 'F':5, 'G':6, 'H':7, 'I':8, 'J':9, 'K':10}"
      ]
    },
    {
      "cell_type": "code",
      "execution_count": null,
      "metadata": {
        "colab": {
          "base_uri": "https://localhost:8080/"
        },
        "id": "pqNrzOGBj91d",
        "outputId": "589468c2-3c45-43cc-b98c-505340326e1d"
      },
      "outputs": [
        {
          "name": "stdout",
          "output_type": "stream",
          "text": [
            "Successful\n"
          ]
        }
      ],
      "source": [
        "import cv2\n",
        "x=[]\n",
        "y=[]\n",
        "\n",
        "for cl in classes:\n",
        "  pth = path+cl\n",
        "  for img_name in os.listdir(pth):\n",
        "    img = cv2.imread(pth+\"/\"+img_name,0)\n",
        "    img = cv2.resize(img, (64, 64))\n",
        "    x.append(img)\n",
        "    y.append(classes[cl])\n",
        "\n",
        "print(\"Successful\")"
      ]
    },
    {
      "cell_type": "code",
      "execution_count": null,
      "metadata": {
        "colab": {
          "base_uri": "https://localhost:8080/"
        },
        "id": "aaxp_QR5kuuY",
        "outputId": "e175fc54-3f21-4a3c-d99c-212caa29ab08"
      },
      "outputs": [
        {
          "data": {
            "text/plain": [
              "9     145\n",
              "6     140\n",
              "5     120\n",
              "1     115\n",
              "2     105\n",
              "3     101\n",
              "4      91\n",
              "0      84\n",
              "7      83\n",
              "8      69\n",
              "10     57\n",
              "dtype: int64"
            ]
          },
          "execution_count": 5,
          "metadata": {},
          "output_type": "execute_result"
        }
      ],
      "source": [
        "pd.Series(y).value_counts()"
      ]
    },
    {
      "cell_type": "code",
      "execution_count": null,
      "metadata": {
        "colab": {
          "base_uri": "https://localhost:8080/"
        },
        "id": "tnGP3oivmJdr",
        "outputId": "c16054cd-7101-46c6-f84c-ada84d2abf4d"
      },
      "outputs": [
        {
          "data": {
            "text/plain": [
              "(64, 64)"
            ]
          },
          "execution_count": 6,
          "metadata": {},
          "output_type": "execute_result"
        }
      ],
      "source": [
        "x[0].shape"
      ]
    },
    {
      "cell_type": "code",
      "execution_count": null,
      "metadata": {
        "id": "0e981BHdmMM6"
      },
      "outputs": [],
      "source": [
        "x=np.array(x)\n",
        "y=np.array(y)\n",
        "#print(type(x))"
      ]
    },
    {
      "cell_type": "code",
      "execution_count": null,
      "metadata": {
        "id": "TvSlOGnWlZVq"
      },
      "outputs": [],
      "source": [
        "#plt.imshow(x[41],cmap=\"gray\")\n",
        "#print(y[0])"
      ]
    },
    {
      "cell_type": "code",
      "execution_count": null,
      "metadata": {
        "colab": {
          "base_uri": "https://localhost:8080/"
        },
        "id": "4AMvgNLnloMc",
        "outputId": "a6628a1a-21f2-434f-be6f-aaef91e402fa"
      },
      "outputs": [
        {
          "data": {
            "text/plain": [
              "(1110, 64, 64)"
            ]
          },
          "execution_count": 9,
          "metadata": {},
          "output_type": "execute_result"
        }
      ],
      "source": [
        "x.shape"
      ]
    },
    {
      "cell_type": "code",
      "execution_count": null,
      "metadata": {
        "id": "Qb57U9qClvhs"
      },
      "outputs": [],
      "source": [
        "x_new = x.reshape(len(x),-1)\n",
        "#print(x_new.shape)\n",
        "#print(y.shape)"
      ]
    },
    {
      "cell_type": "code",
      "execution_count": null,
      "metadata": {
        "id": "eVPy5gYXmxbC"
      },
      "outputs": [],
      "source": [
        "xtrain, xtest, ytrain, ytest = train_test_split(x_new, y, test_size=0.20, random_state=10)"
      ]
    },
    {
      "cell_type": "code",
      "execution_count": null,
      "metadata": {
        "id": "GxuYVKaPXZG6"
      },
      "outputs": [],
      "source": [
        "x = np.array(x).reshape(-1, 64, 64, 1)\n",
        "y = np.array(y)"
      ]
    },
    {
      "cell_type": "code",
      "execution_count": null,
      "metadata": {
        "colab": {
          "base_uri": "https://localhost:8080/"
        },
        "id": "zO3p2_HQXZmA",
        "outputId": "7eda0e26-779c-4938-b24b-ee7517573d6f"
      },
      "outputs": [
        {
          "name": "stdout",
          "output_type": "stream",
          "text": [
            "(1110, 64, 64, 1)\n"
          ]
        }
      ],
      "source": [
        "print(x.shape)"
      ]
    },
    {
      "cell_type": "code",
      "execution_count": null,
      "metadata": {
        "id": "7Ere0ShlDZQl"
      },
      "outputs": [],
      "source": [
        "from keras.models import Sequential\n",
        "from keras.layers import Dense, Dropout, Flatten, Conv2D, MaxPooling2D"
      ]
    },
    {
      "cell_type": "code",
      "execution_count": null,
      "metadata": {
        "colab": {
          "base_uri": "https://localhost:8080/",
          "height": 862
        },
        "id": "FZ-RV1POA4DO",
        "outputId": "b09fe3d5-0fd1-4d93-cf26-9a9559906a12"
      },
      "outputs": [
        {
          "name": "stdout",
          "output_type": "stream",
          "text": [
            "Epoch 1/10\n",
            "28/28 [==============================] - 6s 180ms/step - loss: 1.7235 - accuracy: 0.4471 - val_loss: 0.4711 - val_accuracy: 0.9144\n",
            "Epoch 2/10\n",
            "28/28 [==============================] - 3s 124ms/step - loss: 0.1716 - accuracy: 0.9718 - val_loss: 0.0198 - val_accuracy: 0.9955\n",
            "Epoch 3/10\n",
            "28/28 [==============================] - 3s 121ms/step - loss: 0.0222 - accuracy: 0.9944 - val_loss: 0.0455 - val_accuracy: 0.9910\n",
            "Epoch 4/10\n",
            "28/28 [==============================] - 4s 159ms/step - loss: 0.0241 - accuracy: 0.9966 - val_loss: 0.0109 - val_accuracy: 1.0000\n",
            "Epoch 5/10\n",
            "28/28 [==============================] - 4s 130ms/step - loss: 0.0053 - accuracy: 1.0000 - val_loss: 0.0027 - val_accuracy: 1.0000\n",
            "Epoch 6/10\n",
            "28/28 [==============================] - 3s 125ms/step - loss: 0.0022 - accuracy: 1.0000 - val_loss: 0.0016 - val_accuracy: 1.0000\n",
            "Epoch 7/10\n",
            "28/28 [==============================] - 3s 124ms/step - loss: 0.0073 - accuracy: 0.9977 - val_loss: 0.0063 - val_accuracy: 1.0000\n",
            "Epoch 8/10\n",
            "28/28 [==============================] - 5s 173ms/step - loss: 0.0030 - accuracy: 1.0000 - val_loss: 0.0031 - val_accuracy: 1.0000\n",
            "Epoch 9/10\n",
            "28/28 [==============================] - 3s 124ms/step - loss: 0.0010 - accuracy: 1.0000 - val_loss: 0.0018 - val_accuracy: 1.0000\n",
            "Epoch 10/10\n",
            "28/28 [==============================] - 3s 124ms/step - loss: 5.8403e-04 - accuracy: 1.0000 - val_loss: 0.0014 - val_accuracy: 1.0000\n"
          ]
        },
        {
          "data": {
            "image/png": "[encoded data removed]",
            "text/plain": [
              "<Figure size 640x480 with 1 Axes>"
            ]
          },
          "metadata": {},
          "output_type": "display_data"
        },
        {
          "name": "stdout",
          "output_type": "stream",
          "text": [
            "7/7 [==============================] - 0s 54ms/step - loss: 0.0014 - accuracy: 1.0000\n",
            "Test accuracy: 1.0\n"
          ]
        }
      ],
      "source": [
        "x = np.array(x).reshape(-1, 64, 64, 1)\n",
        "y = np.array(y)\n",
        "\n",
        "xtrain, xtest, ytrain, ytest = train_test_split(x, y, test_size=0.20, random_state=10)\n",
        "\n",
        "x_train = xtrain / 255.0\n",
        "x_test = xtest / 255.0\n",
        "\n",
        "\n",
        "model = Sequential([\n",
        "    Conv2D(32, (3, 3), activation='relu', input_shape=(64, 64, 1)),\n",
        "    MaxPooling2D((2, 2)),\n",
        "    Conv2D(64, (3, 3), activation='relu'),\n",
        "    MaxPooling2D((2, 2)),\n",
        "    Flatten(),\n",
        "    Dense(128, activation='relu'),\n",
        "    Dense(11, activation='softmax')\n",
        "])\n",
        "\n",
        "\n",
        "model.compile(optimizer='adam',\n",
        "              loss='sparse_categorical_crossentropy',\n",
        "              metrics=['accuracy'])\n",
        "\n",
        "history = model.fit(x_train, ytrain, epochs=10, validation_data=(x_test, ytest))\n",
        "\n",
        "plt.plot(history.history['accuracy'], label='accuracy')\n",
        "plt.plot(history.history['val_accuracy'], label='val_accuracy')\n",
        "plt.xlabel('Epoch')\n",
        "plt.ylabel('Accuracy')\n",
        "plt.legend()\n",
        "plt.show()\n",
        "\n",
        "test_loss, test_acc = model.evaluate(x_test, ytest)\n",
        "print('Test accuracy:', test_acc)\n",
        "\n",
        "model.save('braille_classifier.h5')\n"
      ]
    },
    {
      "cell_type": "code",
      "execution_count": null,
      "metadata": {
        "id": "Ps89_z67fWZ_"
      },
      "outputs": [],
      "source": [
        "import pickle"
      ]
    },
    {
      "cell_type": "code",
      "execution_count": null,
      "metadata": {
        "id": "_sQr3PAsfPmV"
      },
      "outputs": [],
      "source": [
        "with open('braille.pkl', 'wb') as file:\n",
        "    pickle.dump(model, file)"
      ]
    },
    {
      "cell_type": "code",
      "execution_count": null,
      "metadata": {
        "id": "ihTdF74VNle2"
      },
      "outputs": [],
      "source": [
        "model.save('braille_classifier.h5')"
      ]
    },
    {
      "cell_type": "code",
      "execution_count": null,
      "metadata": {
        "colab": {
          "base_uri": "https://localhost:8080/"
        },
        "id": "TXeN-uZJYm3h",
        "outputId": "39154f4c-eac3-46eb-9b49-8bb9aa6f6f5e"
      },
      "outputs": [
        {
          "name": "stdout",
          "output_type": "stream",
          "text": [
            "1/1 [==============================] - 0s 288ms/step\n",
            "E\n"
          ]
        }
      ],
      "source": [
        "decode = {0:'A', 1:'B',2:'C',3:'D', 4:'E', 5:'E', 6:'F',7:'G', 8:'H', 9:'I', 10:'J', 11:'K'}\n",
        "img = cv2.imread('//content/E2 - Copy - Copy.jpeg', 0)\n",
        "img = cv2.resize(img, (64, 64))\n",
        "img = np.expand_dims(img, axis=-1) # add a new dimension to the image\n",
        "img = img / 255.0 # normalize the pixel values\n",
        "#plt.imshow(img[:,:,0], cmap='gray') # plot the image\n",
        "prediction = model.predict(np.array([img]))[0] # make a prediction\n",
        "decoded_prediction = decode[np.argmax(prediction)] # decode the prediction\n",
        "print(decoded_prediction) # print the decoded prediction\n"
      ]
    }
  ],
  "metadata": {
    "colab": {
      "provenance": []
    },
    "kernelspec": {
      "display_name": "Python 3",
      "name": "python3"
    },
    "language_info": {
      "name": "python"
    }
  },
  "nbformat": 4,
  "nbformat_minor": 0
}