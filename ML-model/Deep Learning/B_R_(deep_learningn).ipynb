{
  "nbformat": 4,
  "nbformat_minor": 0,
  "metadata": {
    "colab": {
      "provenance": []
    },
    "kernelspec": {
      "name": "python3",
      "display_name": "Python 3"
    },
    "language_info": {
      "name": "python"
    }
  },
  "cells": [
    {
      "cell_type": "code",
      "execution_count": 25,
      "metadata": {
        "colab": {
          "base_uri": "https://localhost:8080/"
        },
        "id": "SMTdNRexhUu6",
        "outputId": "fcc5f9fc-f401-4505-825f-16488c499d01"
      },
      "outputs": [
        {
          "output_type": "stream",
          "name": "stdout",
          "text": [
            "Drive already mounted at /content/drive; to attempt to forcibly remount, call drive.mount(\"/content/drive\", force_remount=True).\n"
          ]
        }
      ],
      "source": [
        "from google.colab import drive\n",
        "drive.mount('/content/drive')"
      ]
    },
    {
      "cell_type": "code",
      "source": [
        "import numpy as np\n",
        "import pandas as pd\n",
        "import matplotlib.pyplot as plt\n",
        "from sklearn.linear_model import LogisticRegression\n",
        "from sklearn.model_selection import train_test_split\n",
        "from sklearn.metrics import accuracy_score"
      ],
      "metadata": {
        "id": "2gqT737wi9V9"
      },
      "execution_count": 26,
      "outputs": []
    },
    {
      "cell_type": "code",
      "source": [
        "import os\n",
        "\n",
        "path =\"/content/drive/MyDrive/braille/train/\"\n",
        "files = os.listdir(path)[:11]\n",
        "print(files)\n",
        "\n",
        "classes={'A':0, 'B':1, 'C':2, 'D':3, 'E':4, 'F':5, 'G':6, 'H':7, 'I':8, 'J':9, 'K':10}"
      ],
      "metadata": {
        "colab": {
          "base_uri": "https://localhost:8080/"
        },
        "id": "jAG3wGA0jghm",
        "outputId": "2998c783-1344-41f5-fe98-a1bcc74c1e94"
      },
      "execution_count": 27,
      "outputs": [
        {
          "output_type": "stream",
          "name": "stdout",
          "text": [
            "['G', 'D', 'C', 'I', 'F', 'E', 'A', 'J', 'H', 'B', 'K']\n"
          ]
        }
      ]
    },
    {
      "cell_type": "code",
      "source": [
        "import cv2\n",
        "x=[]\n",
        "y=[]\n",
        "\n",
        "for cl in classes:\n",
        "  pth = path+cl\n",
        "  for img_name in os.listdir(pth):\n",
        "    img = cv2.imread(pth+\"/\"+img_name,0)\n",
        "    img = cv2.resize(img, (64, 64))\n",
        "    x.append(img)\n",
        "    y.append(classes[cl])\n",
        "\n",
        "print(\"Successful\")"
      ],
      "metadata": {
        "colab": {
          "base_uri": "https://localhost:8080/"
        },
        "id": "pqNrzOGBj91d",
        "outputId": "068be032-1672-4e0e-f8be-2d40844a4dd0"
      },
      "execution_count": 28,
      "outputs": [
        {
          "output_type": "stream",
          "name": "stdout",
          "text": [
            "Successful\n"
          ]
        }
      ]
    },
    {
      "cell_type": "code",
      "source": [
        "pd.Series(y).value_counts()"
      ],
      "metadata": {
        "colab": {
          "base_uri": "https://localhost:8080/"
        },
        "id": "aaxp_QR5kuuY",
        "outputId": "3ae1476d-a632-4cc8-f66f-ca2d5ad7b606"
      },
      "execution_count": 29,
      "outputs": [
        {
          "output_type": "execute_result",
          "data": {
            "text/plain": [
              "9     145\n",
              "6     140\n",
              "5     120\n",
              "1     115\n",
              "2     105\n",
              "3     101\n",
              "4      91\n",
              "0      84\n",
              "7      83\n",
              "8      69\n",
              "10     57\n",
              "dtype: int64"
            ]
          },
          "metadata": {},
          "execution_count": 29
        }
      ]
    },
    {
      "cell_type": "code",
      "source": [
        "x[0].shape"
      ],
      "metadata": {
        "colab": {
          "base_uri": "https://localhost:8080/"
        },
        "id": "tnGP3oivmJdr",
        "outputId": "c8de0682-896e-45ec-b018-5fe638f5d92a"
      },
      "execution_count": 30,
      "outputs": [
        {
          "output_type": "execute_result",
          "data": {
            "text/plain": [
              "(64, 64)"
            ]
          },
          "metadata": {},
          "execution_count": 30
        }
      ]
    },
    {
      "cell_type": "code",
      "source": [
        "x=np.array(x)\n",
        "y=np.array(y)\n",
        "#print(type(x))"
      ],
      "metadata": {
        "id": "0e981BHdmMM6"
      },
      "execution_count": 31,
      "outputs": []
    },
    {
      "cell_type": "code",
      "source": [
        "#plt.imshow(x[41],cmap=\"gray\")\n",
        "#print(y[0])"
      ],
      "metadata": {
        "id": "TvSlOGnWlZVq"
      },
      "execution_count": 32,
      "outputs": []
    },
    {
      "cell_type": "code",
      "source": [
        "x.shape"
      ],
      "metadata": {
        "colab": {
          "base_uri": "https://localhost:8080/"
        },
        "id": "4AMvgNLnloMc",
        "outputId": "2218707e-f3c4-4496-f46c-76acd3989171"
      },
      "execution_count": 33,
      "outputs": [
        {
          "output_type": "execute_result",
          "data": {
            "text/plain": [
              "(1110, 64, 64)"
            ]
          },
          "metadata": {},
          "execution_count": 33
        }
      ]
    },
    {
      "cell_type": "code",
      "source": [
        "x_new = x.reshape(len(x),-1)\n",
        "#print(x_new.shape)\n",
        "#print(y.shape)"
      ],
      "metadata": {
        "id": "Qb57U9qClvhs"
      },
      "execution_count": 34,
      "outputs": []
    },
    {
      "cell_type": "code",
      "source": [
        "xtrain, xtest, ytrain, ytest = train_test_split(x_new, y, test_size=0.20, random_state=10)"
      ],
      "metadata": {
        "id": "eVPy5gYXmxbC"
      },
      "execution_count": 35,
      "outputs": []
    },
    {
      "cell_type": "code",
      "source": [
        "x = np.array(x).reshape(-1, 64, 64, 1)\n",
        "y = np.array(y)"
      ],
      "metadata": {
        "id": "GxuYVKaPXZG6"
      },
      "execution_count": 38,
      "outputs": []
    },
    {
      "cell_type": "code",
      "source": [
        "print(x.shape)"
      ],
      "metadata": {
        "colab": {
          "base_uri": "https://localhost:8080/"
        },
        "id": "zO3p2_HQXZmA",
        "outputId": "5bfafaea-6ecf-49d5-cb27-fbb368e89731"
      },
      "execution_count": 39,
      "outputs": [
        {
          "output_type": "stream",
          "name": "stdout",
          "text": [
            "(1110, 64, 64, 1)\n"
          ]
        }
      ]
    },
    {
      "cell_type": "code",
      "source": [
        "x = np.array(x).reshape(-1, 64, 64, 1)\n",
        "y = np.array(y)\n",
        "\n",
        "xtrain, xtest, ytrain, ytest = train_test_split(x, y, test_size=0.20, random_state=10)\n",
        "\n",
        "x_train = xtrain / 255.0\n",
        "x_test = xtest / 255.0\n",
        "\n",
        "\n",
        "model = Sequential([\n",
        "    Conv2D(32, (3, 3), activation='relu', input_shape=(64, 64, 1)),\n",
        "    MaxPooling2D((2, 2)),\n",
        "    Conv2D(64, (3, 3), activation='relu'),\n",
        "    MaxPooling2D((2, 2)),\n",
        "    Flatten(),\n",
        "    Dense(128, activation='relu'),\n",
        "    Dense(11, activation='softmax')\n",
        "])\n",
        "\n",
        "\n",
        "model.compile(optimizer='adam',\n",
        "              loss='sparse_categorical_crossentropy',\n",
        "              metrics=['accuracy'])\n",
        "\n",
        "history = model.fit(x_train, ytrain, epochs=10, validation_data=(x_test, ytest))\n",
        "\n",
        "plt.plot(history.history['accuracy'], label='accuracy')\n",
        "plt.plot(history.history['val_accuracy'], label='val_accuracy')\n",
        "plt.xlabel('Epoch')\n",
        "plt.ylabel('Accuracy')\n",
        "plt.legend()\n",
        "plt.show()\n",
        "\n",
        "test_loss, test_acc = model.evaluate(x_test, ytest)\n",
        "print('Test accuracy:', test_acc)\n",
        "\n",
        "model.save('braille_classifier.h5')\n"
      ],
      "metadata": {
        "id": "FZ-RV1POA4DO",
        "colab": {
          "base_uri": "https://localhost:8080/",
          "height": 862
        },
        "outputId": "f22e0965-a778-414e-e015-4fa4dce4dcde"
      },
      "execution_count": 36,
      "outputs": [
        {
          "output_type": "stream",
          "name": "stdout",
          "text": [
            "Epoch 1/10\n",
            "28/28 [==============================] - 7s 205ms/step - loss: 2.0989 - accuracy: 0.3074 - val_loss: 1.2895 - val_accuracy: 0.7252\n",
            "Epoch 2/10\n",
            "28/28 [==============================] - 4s 141ms/step - loss: 0.4731 - accuracy: 0.9054 - val_loss: 0.0971 - val_accuracy: 0.9865\n",
            "Epoch 3/10\n",
            "28/28 [==============================] - 4s 144ms/step - loss: 0.0503 - accuracy: 0.9876 - val_loss: 0.0515 - val_accuracy: 0.9865\n",
            "Epoch 4/10\n",
            "28/28 [==============================] - 5s 193ms/step - loss: 0.0209 - accuracy: 0.9966 - val_loss: 0.0234 - val_accuracy: 0.9955\n",
            "Epoch 5/10\n",
            "28/28 [==============================] - 4s 136ms/step - loss: 0.0087 - accuracy: 0.9989 - val_loss: 0.0295 - val_accuracy: 0.9955\n",
            "Epoch 6/10\n",
            "28/28 [==============================] - 4s 139ms/step - loss: 0.0056 - accuracy: 1.0000 - val_loss: 0.0241 - val_accuracy: 0.9955\n",
            "Epoch 7/10\n",
            "28/28 [==============================] - 5s 186ms/step - loss: 0.0027 - accuracy: 1.0000 - val_loss: 0.0231 - val_accuracy: 0.9955\n",
            "Epoch 8/10\n",
            "28/28 [==============================] - 4s 135ms/step - loss: 0.0025 - accuracy: 1.0000 - val_loss: 0.0228 - val_accuracy: 0.9955\n",
            "Epoch 9/10\n",
            "28/28 [==============================] - 4s 140ms/step - loss: 0.0034 - accuracy: 1.0000 - val_loss: 0.0573 - val_accuracy: 0.9865\n",
            "Epoch 10/10\n",
            "28/28 [==============================] - 5s 188ms/step - loss: 0.0038 - accuracy: 0.9989 - val_loss: 0.0242 - val_accuracy: 0.9955\n"
          ]
        },
        {
          "output_type": "display_data",
          "data": {
            "text/plain": [
              "<Figure size 640x480 with 1 Axes>"
            ],
            "image/png": "[encoded data removed]"
          },
          "metadata": {}
        },
        {
          "output_type": "stream",
          "name": "stdout",
          "text": [
            "7/7 [==============================] - 0s 35ms/step - loss: 0.0242 - accuracy: 0.9955\n",
            "Test accuracy: 0.9954954981803894\n"
          ]
        }
      ]
    },
    {
      "cell_type": "code",
      "source": [
        "import pickle"
      ],
      "metadata": {
        "id": "Ps89_z67fWZ_"
      },
      "execution_count": 48,
      "outputs": []
    },
    {
      "cell_type": "code",
      "source": [
        "with open('braille.pkl', 'wb') as file:\n",
        "    pickle.dump(model, file)"
      ],
      "metadata": {
        "id": "_sQr3PAsfPmV"
      },
      "execution_count": 49,
      "outputs": []
    },
    {
      "cell_type": "code",
      "source": [
        "decode = {0:'A', 1:'B',2:'C',3:'D', 4:'E', 5:'E', 6:'F',7:'G', 8:'H', 9:'I', 10:'J', 11:'K'}\n",
        "img = cv2.imread('/content/E2 - Copy - Copy.jpeg', 0)\n",
        "img = cv2.resize(img, (64, 64))\n",
        "img = np.expand_dims(img, axis=-1) # add a new dimension to the image\n",
        "img = img / 255.0 # normalize the pixel values\n",
        "#plt.imshow(img[:,:,0], cmap='gray') # plot the image\n",
        "prediction = model.predict(np.array([img]))[0] # make a prediction\n",
        "decoded_prediction = decode[np.argmax(prediction)] # decode the prediction\n",
        "print(decoded_prediction) # print the decoded prediction\n"
      ],
      "metadata": {
        "colab": {
          "base_uri": "https://localhost:8080/"
        },
        "id": "TXeN-uZJYm3h",
        "outputId": "44c205cc-1102-41d7-c574-dbe1350f65b3"
      },
      "execution_count": 46,
      "outputs": [
        {
          "output_type": "stream",
          "name": "stdout",
          "text": [
            "1/1 [==============================] - 0s 37ms/step\n",
            "E\n"
          ]
        }
      ]
    }
  ]
}